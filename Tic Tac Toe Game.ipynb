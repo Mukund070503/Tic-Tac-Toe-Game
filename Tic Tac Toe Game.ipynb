{
 "cells": [
  {
   "cell_type": "code",
   "execution_count": null,
   "id": "0f3a9605-ae38-45c4-b0f4-6a774f29a116",
   "metadata": {},
   "outputs": [
    {
     "name": "stdout",
     "output_type": "stream",
     "text": [
      "Welcome to the Tic Tac Toe game.\n",
      "This is your game board.\n",
      "-------------\n",
      "|   |   |   |\n",
      "-------------\n",
      "|   |   |   |\n",
      "-------------\n",
      "|   |   |   |\n",
      "-------------\n",
      "Player1, choose the symbol you would like to use in the game (X or O)\n"
     ]
    },
    {
     "name": "stdin",
     "output_type": "stream",
     "text": [
      "Enter the choice of your symbol X\n"
     ]
    },
    {
     "name": "stdout",
     "output_type": "stream",
     "text": [
      "Player1 has choosen X as a symbol.\n",
      "Player2 will have O as the symbol.\n"
     ]
    },
    {
     "name": "stdin",
     "output_type": "stream",
     "text": [
      "Enter the position to fill the symbol:(1-9) 1\n"
     ]
    },
    {
     "name": "stdout",
     "output_type": "stream",
     "text": [
      "Welcome to the Tic Tac Toe game.\n",
      "This is your game board.\n",
      "-------------\n",
      "| X |   |   |\n",
      "-------------\n",
      "|   |   |   |\n",
      "-------------\n",
      "|   |   |   |\n",
      "-------------\n"
     ]
    },
    {
     "name": "stdin",
     "output_type": "stream",
     "text": [
      "Enter the position to fill the symbol:(1-9) 3\n"
     ]
    },
    {
     "name": "stdout",
     "output_type": "stream",
     "text": [
      "Welcome to the Tic Tac Toe game.\n",
      "This is your game board.\n",
      "-------------\n",
      "| X |   | O |\n",
      "-------------\n",
      "|   |   |   |\n",
      "-------------\n",
      "|   |   |   |\n",
      "-------------\n"
     ]
    },
    {
     "name": "stdin",
     "output_type": "stream",
     "text": [
      "Enter the position to fill the symbol:(1-9) 2\n"
     ]
    },
    {
     "name": "stdout",
     "output_type": "stream",
     "text": [
      "Welcome to the Tic Tac Toe game.\n",
      "This is your game board.\n",
      "-------------\n",
      "| X | X | O |\n",
      "-------------\n",
      "|   |   |   |\n",
      "-------------\n",
      "|   |   |   |\n",
      "-------------\n"
     ]
    },
    {
     "name": "stdin",
     "output_type": "stream",
     "text": [
      "Enter the position to fill the symbol:(1-9) 5\n"
     ]
    },
    {
     "name": "stdout",
     "output_type": "stream",
     "text": [
      "Welcome to the Tic Tac Toe game.\n",
      "This is your game board.\n",
      "-------------\n",
      "| X | X | O |\n",
      "-------------\n",
      "|   | O |   |\n",
      "-------------\n",
      "|   |   |   |\n",
      "-------------\n"
     ]
    },
    {
     "name": "stdin",
     "output_type": "stream",
     "text": [
      "Enter the position to fill the symbol:(1-9) 7\n"
     ]
    },
    {
     "name": "stdout",
     "output_type": "stream",
     "text": [
      "Welcome to the Tic Tac Toe game.\n",
      "This is your game board.\n",
      "-------------\n",
      "| X | X | O |\n",
      "-------------\n",
      "|   | O |   |\n",
      "-------------\n",
      "| X |   |   |\n",
      "-------------\n"
     ]
    },
    {
     "name": "stdin",
     "output_type": "stream",
     "text": [
      "Enter the position to fill the symbol:(1-9) 4\n"
     ]
    },
    {
     "name": "stdout",
     "output_type": "stream",
     "text": [
      "Welcome to the Tic Tac Toe game.\n",
      "This is your game board.\n",
      "-------------\n",
      "| X | X | O |\n",
      "-------------\n",
      "| O | O |   |\n",
      "-------------\n",
      "| X |   |   |\n",
      "-------------\n"
     ]
    },
    {
     "name": "stdin",
     "output_type": "stream",
     "text": [
      "Enter the position to fill the symbol:(1-9) 8\n"
     ]
    },
    {
     "name": "stdout",
     "output_type": "stream",
     "text": [
      "Welcome to the Tic Tac Toe game.\n",
      "This is your game board.\n",
      "-------------\n",
      "| X | X | O |\n",
      "-------------\n",
      "| O | O |   |\n",
      "-------------\n",
      "| X | X |   |\n",
      "-------------\n"
     ]
    },
    {
     "name": "stdin",
     "output_type": "stream",
     "text": [
      "Enter the position to fill the symbol:(1-9) 6\n"
     ]
    },
    {
     "name": "stdout",
     "output_type": "stream",
     "text": [
      "Welcome to the Tic Tac Toe game.\n",
      "This is your game board.\n",
      "-------------\n",
      "| X | X | O |\n",
      "-------------\n",
      "| O | O | O |\n",
      "-------------\n",
      "| X | X |   |\n",
      "-------------\n",
      "Game has been won\n"
     ]
    }
   ],
   "source": [
    "board_positions = [\" \",\" \",\" \",\" \",\" \",\" \",\" \",\" \",\" \"]\n",
    "choosen_position = []\n",
    "\n",
    "\n",
    "def board_update(board_positions):\n",
    "    print(\"Welcome to the Tic Tac Toe game.\")\n",
    "    print(\"This is your game board.\")\n",
    "    print(\"-------------\")\n",
    "    print(f\"| {board_positions[0]} | {board_positions[1]} | {board_positions[2]} |\")\n",
    "    print(\"-------------\")\n",
    "    print(f\"| {board_positions[3]} | {board_positions[4]} | {board_positions[5]} |\")\n",
    "    print(\"-------------\")\n",
    "    print(f\"| {board_positions[6]} | {board_positions[7]} | {board_positions[8]} |\")\n",
    "    print(\"-------------\")\n",
    "\n",
    "\n",
    "def symbol_choice():\n",
    "    print(\"Player1, choose the symbol you would like to use in the game (X or O)\")\n",
    "    choice = \"Lol\"\n",
    "    while choice not in [\"X\",\"O\"]:\n",
    "        choice = input(\"Enter the choice of your symbol\")\n",
    "        if choice not in [\"X\",\"O\"]:\n",
    "            print(\"Sorry, but the choice of symbol is not available\")\n",
    "    print(f\"Player1 has choosen {choice} as a symbol.\")\n",
    "    if choice==\"X\":\n",
    "        print(\"Player2 will have O as the symbol.\")\n",
    "    else:\n",
    "        print(\"Player2 will have X as the symbol.\")\n",
    "    return choice\n",
    "\n",
    "\n",
    "def person1():\n",
    "    game_position = 11\n",
    "    while int(game_position) not in range(1,10) or int(game_position) in choosen_position:\n",
    "        game_position = input(\"Enter the position to fill the symbol:(1-9)\")\n",
    "        if int(game_position) not in range(1,10):\n",
    "            print(\"Either, your choice is invalid or it is already taken\")\n",
    "    choosen_position.append(int(game_position))\n",
    "    return int(game_position)\n",
    "\n",
    "\n",
    "def person2():\n",
    "    game_position = 11\n",
    "    while int(game_position) not in range(1,10) or int(game_position) in choosen_position: \n",
    "        game_position = input(\"Enter the position to fill the symbol:(1-9)\")\n",
    "        if int(game_position) not in range(1,10):\n",
    "            print(\"Either, your choice is invalid or it is already taken\")\n",
    "    choosen_position.append(int(game_position))\n",
    "    return int(game_position)\n",
    "\n",
    "\n",
    "def block_fill(symbol,position):\n",
    "    board_positions[position-1]=symbol\n",
    "    board_update(board_positions)\n",
    "\n",
    "\n",
    "def continue_play():\n",
    "    boolean = \"\"\n",
    "    global game_continue, board_positions,choosen_position,symbol,continuee_play\n",
    "    while boolean not in [\"Y\",\"N\"]:\n",
    "        boolean = input(\"Do you want to play again:(Y or N)\")\n",
    "        if boolean not in [\"Y\",\"N\"]:\n",
    "            print(\"Wrong bool entered\")\n",
    "    if boolean==\"Y\":\n",
    "        board_positions= [\" \",\" \",\" \",\" \",\" \",\" \",\" \",\" \",\" \"]\n",
    "        choosen_position = []\n",
    "        board_update(board_positions)\n",
    "        symbol = symbol_choice()\n",
    "        continuee_play = \"Y\"\n",
    "    else:\n",
    "        game_continue=False\n",
    "        return True\n",
    "\n",
    "\n",
    "def win_check():\n",
    "    if board_positions[0:3]==[\"X\"]*3 or board_positions[0:3]==[\"O\"]*3 or board_positions[3:6]==[\"X\"]*3 or board_positions[3:6]==[\"O\"]*3 or board_positions[6:]==[\"X\"]*3 or board_positions[6:]==[\"O\"]*3 or board_positions[0::3]==[\"X\"]*3 or board_positions[0::3]==[\"O\"]*3 or board_positions[1::3]==[\"X\"]*3 or board_positions[1::3]==[\"O\"]*3 or board_positions[2::3]==[\"X\"]*3 or board_positions[2::3]==[\"O\"]*3 or board_positions[0::4]==[\"X\"]*3 or board_positions[0::4]==[\"O\"]*3 or board_positions[2:7:2] == [\"X\"]*3 or board_positions[2:7:2] == [\"O\"]*3:\n",
    "        print(\"Game has been won\")\n",
    "        return continue_play()\n",
    "\n",
    "\n",
    "board_positions = [\" \",\" \",\" \",\" \",\" \",\" \",\" \",\" \",\" \"]\n",
    "choosen_position = []\n",
    "board_update(board_positions)\n",
    "symbol = symbol_choice()\n",
    "game_continue = True\n",
    "while game_continue:\n",
    "    position = person1()\n",
    "    block_fill(symbol,position)\n",
    "    continuee_play=\"\"\n",
    "    if win_check():\n",
    "        break\n",
    "    elif continuee_play==\"Y\":\n",
    "        continue\n",
    "    position = person2()\n",
    "    if symbol==\"X\":\n",
    "        block_fill(\"O\",position)\n",
    "    else:\n",
    "        block_fill(\"X\",position)\n",
    "    win_check()"
   ]
  },
  {
   "cell_type": "code",
   "execution_count": null,
   "id": "4db53fa3-6743-44d1-9fc5-4f13d79aadaa",
   "metadata": {},
   "outputs": [],
   "source": []
  }
 ],
 "metadata": {
  "kernelspec": {
   "display_name": "Python 3 (ipykernel)",
   "language": "python",
   "name": "python3"
  },
  "language_info": {
   "codemirror_mode": {
    "name": "ipython",
    "version": 3
   },
   "file_extension": ".py",
   "mimetype": "text/x-python",
   "name": "python",
   "nbconvert_exporter": "python",
   "pygments_lexer": "ipython3",
   "version": "3.12.4"
  }
 },
 "nbformat": 4,
 "nbformat_minor": 5
}
